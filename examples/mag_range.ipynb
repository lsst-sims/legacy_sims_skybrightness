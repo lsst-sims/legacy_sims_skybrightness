{
 "cells": [
  {
   "cell_type": "markdown",
   "metadata": {},
   "source": [
    "Let's see how much the zenith sky brightess changes with lunar phase."
   ]
  },
  {
   "cell_type": "code",
   "execution_count": 1,
   "metadata": {},
   "outputs": [],
   "source": [
    "%matplotlib inline\n",
    "import numpy as np\n",
    "import lsst.sims.skybrightness as sb\n",
    "import pandas as pd"
   ]
  },
  {
   "cell_type": "code",
   "execution_count": 2,
   "metadata": {},
   "outputs": [],
   "source": [
    "sm = sb.SkyModel(observatory='LSST', mags=True)\n",
    "mjds = np.arange(50000,50000+30, 0.1)\n",
    "allMags = []\n",
    "all_mags_dark = []"
   ]
  },
  {
   "cell_type": "code",
   "execution_count": 3,
   "metadata": {},
   "outputs": [],
   "source": [
    "for mjd in mjds:\n",
    "    sm.setRaDecMjd([0.],[90.], mjd, degrees=True, azAlt=True)\n",
    "    if sm.sunAlt < np.radians(-12.):\n",
    "        allMags.append(sm.returnMags())\n",
    "        if sm.moonAlt < np.radians(60.):\n",
    "            all_mags_dark.append(sm.returnMags())"
   ]
  },
  {
   "cell_type": "code",
   "execution_count": 4,
   "metadata": {},
   "outputs": [],
   "source": [
    "ack = pd.DataFrame(allMags)\n",
    "ack_dark = pd.DataFrame(all_mags_dark)"
   ]
  },
  {
   "cell_type": "code",
   "execution_count": 5,
   "metadata": {},
   "outputs": [
    {
     "name": "stdout",
     "output_type": "stream",
     "text": [
      "Sun < -12 degrees\n",
      "u [ 18.51618263] [ 22.74679323] [ 4.2306106]\n",
      "g [ 17.97070174] [ 22.26992358] [ 4.29922184]\n",
      "r [ 18.0533528] [ 21.22294127] [ 3.16958847]\n",
      "i [ 18.27463594] [ 20.45793366] [ 2.18329773]\n",
      "z [ 17.874366] [ 19.4600411] [ 1.5856751]\n",
      "y [ 16.93805984] [ 18.6411637] [ 1.70310386]\n"
     ]
    }
   ],
   "source": [
    "print('Sun < -12 degrees')\n",
    "for filterName in allMags[0].keys():\n",
    "    print(filterName, ack[filterName].min(), ack[filterName].max(), ack[filterName].max()-ack[filterName].min())"
   ]
  },
  {
   "cell_type": "code",
   "execution_count": 6,
   "metadata": {},
   "outputs": [
    {
     "name": "stdout",
     "output_type": "stream",
     "text": [
      "Sun < -18 degrees\n",
      "u [ 18.51618263] [ 22.74679323] [ 4.2306106]\n",
      "g [ 17.97070174] [ 22.26992358] [ 4.29922184]\n",
      "r [ 18.0533528] [ 21.22294127] [ 3.16958847]\n",
      "i [ 18.27463594] [ 20.45793366] [ 2.18329773]\n",
      "z [ 18.25968638] [ 19.4600411] [ 1.20035472]\n",
      "y [ 17.2648641] [ 18.6411637] [ 1.3762996]\n"
     ]
    }
   ],
   "source": [
    "print('Moon < 60 degrees')\n",
    "for filterName in allMags[0].keys():\n",
    "    print(filterName, ack_dark[filterName].min(), ack_dark[filterName].max(), ack_dark[filterName].max()-ack_dark[filterName].min())"
   ]
  },
  {
   "cell_type": "code",
   "execution_count": null,
   "metadata": {},
   "outputs": [],
   "source": []
  },
  {
   "cell_type": "code",
   "execution_count": null,
   "metadata": {},
   "outputs": [],
   "source": []
  },
  {
   "cell_type": "code",
   "execution_count": null,
   "metadata": {},
   "outputs": [],
   "source": []
  }
 ],
 "metadata": {
  "kernelspec": {
   "display_name": "Python 3",
   "language": "python",
   "name": "python3"
  },
  "language_info": {
   "codemirror_mode": {
    "name": "ipython",
    "version": 3
   },
   "file_extension": ".py",
   "mimetype": "text/x-python",
   "name": "python",
   "nbconvert_exporter": "python",
   "pygments_lexer": "ipython3",
   "version": "3.6.2"
  }
 },
 "nbformat": 4,
 "nbformat_minor": 1
}
