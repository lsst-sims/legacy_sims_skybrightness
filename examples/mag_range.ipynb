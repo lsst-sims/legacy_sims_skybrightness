{
 "cells": [
  {
   "cell_type": "markdown",
   "metadata": {},
   "source": [
    "Let's see how much the zenith sky brightess changes with lunar phase."
   ]
  },
  {
   "cell_type": "code",
   "execution_count": 1,
   "metadata": {},
   "outputs": [],
   "source": [
    "%matplotlib inline\n",
    "import numpy as np\n",
    "import lsst.sims.skybrightness as sb\n",
    "import pandas as pd"
   ]
  },
  {
   "cell_type": "code",
   "execution_count": 2,
   "metadata": {},
   "outputs": [],
   "source": [
    "sm = sb.SkyModel(observatory='LSST', mags=True)\n",
    "mjds = np.arange(50000,50000+30, 0.1)\n",
    "allMags = []\n",
    "all_mags_dark = []"
   ]
  },
  {
   "cell_type": "code",
   "execution_count": 3,
   "metadata": {},
   "outputs": [],
   "source": [
    "for mjd in mjds:\n",
    "    sm.setRaDecMjd([0.],[90.], mjd, degrees=True, azAlt=True)\n",
    "    if sm.sunAlt < np.radians(-18.):\n",
    "        allMags.append(sm.returnMags())\n",
    "        if sm.moonAlt > np.radians(30.):\n",
    "            all_mags_dark.append(sm.returnMags())"
   ]
  },
  {
   "cell_type": "code",
   "execution_count": 4,
   "metadata": {},
   "outputs": [],
   "source": [
    "ack = pd.DataFrame(allMags)\n",
    "ack_dark = pd.DataFrame(all_mags_dark)"
   ]
  },
  {
   "cell_type": "code",
   "execution_count": 5,
   "metadata": {},
   "outputs": [
    {
     "name": "stdout",
     "output_type": "stream",
     "text": [
      "Sun alt < -18 degrees\n",
      "filter  max   min  (max-min)\n",
      "u [ 18.58907119] [ 22.86400553] [ 4.27493434]\n",
      "g [ 17.97381406] [ 22.36035136] [ 4.3865373]\n",
      "r [ 18.0580876] [ 21.34266296] [ 3.28457536]\n",
      "i [ 18.28024102] [ 20.42051088] [ 2.14026986]\n",
      "z [ 18.25889989] [ 19.44477362] [ 1.18587373]\n",
      "y [ 17.79541715] [ 18.23771621] [ 0.44229905]\n"
     ]
    }
   ],
   "source": [
    "print('Sun alt < -18 degrees')\n",
    "print(\"filter  max   min  (max-min)\")\n",
    "for filterName in allMags[0].keys():\n",
    "    print(filterName, ack[filterName].min(), ack[filterName].max(), ack[filterName].max()-ack[filterName].min())"
   ]
  },
  {
   "cell_type": "code",
   "execution_count": 6,
   "metadata": {},
   "outputs": [
    {
     "name": "stdout",
     "output_type": "stream",
     "text": [
      "Moon alt > 30 degrees\n",
      "filter  max   min  (max-min)\n",
      "u [ 18.58907119] [ 21.33332102] [ 2.74424983]\n",
      "g [ 17.97381406] [ 20.64667796] [ 2.6728639]\n",
      "r [ 18.0580876] [ 20.35757152] [ 2.29948392]\n",
      "i [ 18.28024102] [ 19.97614038] [ 1.69589936]\n",
      "z [ 18.25889989] [ 19.27540958] [ 1.01650969]\n",
      "y [ 17.79541715] [ 18.1933359] [ 0.39791874]\n"
     ]
    }
   ],
   "source": [
    "print('Moon alt > 30 degrees')\n",
    "print(\"filter  max   min  (max-min)\")\n",
    "for filterName in allMags[0].keys():\n",
    "    print(filterName, ack_dark[filterName].min(), ack_dark[filterName].max(), ack_dark[filterName].max()-ack_dark[filterName].min())"
   ]
  },
  {
   "cell_type": "code",
   "execution_count": null,
   "metadata": {},
   "outputs": [],
   "source": [
    "\n"
   ]
  },
  {
   "cell_type": "code",
   "execution_count": null,
   "metadata": {},
   "outputs": [],
   "source": []
  },
  {
   "cell_type": "code",
   "execution_count": null,
   "metadata": {},
   "outputs": [],
   "source": []
  }
 ],
 "metadata": {
  "kernelspec": {
   "display_name": "Python 3",
   "language": "python",
   "name": "python3"
  },
  "language_info": {
   "codemirror_mode": {
    "name": "ipython",
    "version": 3
   },
   "file_extension": ".py",
   "mimetype": "text/x-python",
   "name": "python",
   "nbconvert_exporter": "python",
   "pygments_lexer": "ipython3",
   "version": "3.7.8"
  }
 },
 "nbformat": 4,
 "nbformat_minor": 1
}
